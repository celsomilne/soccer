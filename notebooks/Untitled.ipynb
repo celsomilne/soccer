{
 "cells": [
  {
   "cell_type": "code",
   "execution_count": 1,
   "metadata": {},
   "outputs": [],
   "source": [
    "import os\n",
    "import cv2\n",
    "from shutil import rmtree, copyfile\n",
    "\n",
    "train_dir = \"training_all/\"\n",
    "blur_dir = \"training_blur/\"\n",
    "norm_dir = \"training_norm/\"\n",
    "\n",
    "def mkdir(d, overwrite=False):\n",
    "    if not os.path.isdir(d):\n",
    "        os.mkdir(d)\n",
    "    elif overwrite:\n",
    "        rmtree(d)\n",
    "        os.mkdir(d)\n",
    "        \n",
    "\n",
    "mkdir(blur_dir, overwrite=False)\n",
    "mkdir(norm_dir, overwrite=False)"
   ]
  },
  {
   "cell_type": "code",
   "execution_count": 2,
   "metadata": {},
   "outputs": [],
   "source": [
    "cores = [f.split(\".\")[0] for f in os.listdir(train_dir) if \"jpg\" in f]"
   ]
  },
  {
   "cell_type": "code",
   "execution_count": 3,
   "metadata": {},
   "outputs": [],
   "source": [
    "jpgs = list(map(lambda x: x + \".jpg\", cores))\n",
    "xmls = list(map(lambda x: x + \".xml\", cores))"
   ]
  },
  {
   "cell_type": "code",
   "execution_count": 4,
   "metadata": {},
   "outputs": [
    {
     "name": "stdout",
     "output_type": "stream",
     "text": [
      "leaving\n"
     ]
    }
   ],
   "source": [
    "for i, jpg in enumerate(jpgs):\n",
    "    path_jpg = os.path.join(train_dir, jpg)\n",
    "    path_xml = os.path.join(train_dir, xmls[i])\n",
    "    im = cv2.imread(path_jpg)\n",
    "    cv2.imshow(\"Hello\", im)\n",
    "    k = cv2.waitKey(0)\n",
    "    if k == ord(\"b\"):\n",
    "        to_jpg = os.path.join(blur_dir, jpg)\n",
    "        to_xml = os.path.join(blur_dir, xmls[i])\n",
    "    elif k == ord(\"q\"):\n",
    "        cv2.destroyAllWindows()\n",
    "        print(\"leaving\")\n",
    "        break\n",
    "    else:\n",
    "        to_jpg = os.path.join(norm_dir, jpg)\n",
    "        to_xml = os.path.join(norm_dir, xmls[i])\n",
    "    copyfile(path_jpg, to_jpg)\n",
    "    copyfile(path_xml, to_xml)\n",
    "    print(k)"
   ]
  },
  {
   "cell_type": "code",
   "execution_count": null,
   "metadata": {},
   "outputs": [],
   "source": []
  }
 ],
 "metadata": {
  "kernelspec": {
   "display_name": "Python 3",
   "language": "python",
   "name": "python3"
  },
  "language_info": {
   "codemirror_mode": {
    "name": "ipython",
    "version": 3
   },
   "file_extension": ".py",
   "mimetype": "text/x-python",
   "name": "python",
   "nbconvert_exporter": "python",
   "pygments_lexer": "ipython3",
   "version": "3.7.4"
  }
 },
 "nbformat": 4,
 "nbformat_minor": 2
}
