{
 "cells": [
  {
   "cell_type": "code",
   "execution_count": 43,
   "metadata": {},
   "outputs": [],
   "source": [
    "import os\n",
    "from shutil import copyfile"
   ]
  },
  {
   "cell_type": "code",
   "execution_count": 44,
   "metadata": {},
   "outputs": [],
   "source": [
    "train_dir =\"training_2\"\n",
    "def is_valid_dir(path, d):\n",
    "    return os.path.isdir(path) and not d[0] == \".\"\n",
    "\n",
    "# Replace the labels\n",
    "rep_labels = [\"referee\", \"goalie\"]\n",
    "rep_with = \"player\"\n",
    "for d in os.listdir(train_dir):\n",
    "    path = os.path.join(train_dir, d)\n",
    "    if not is_valid_dir(path, d):\n",
    "        continue\n",
    "    files_base = [f[0:-4] for f in os.listdir(path) if f[-4:] == \".xml\"]\n",
    "    for f in files_base:\n",
    "        xml_path = os.path.join(path, \"%s.xml\" % f)\n",
    "        with open(xml_path) as fp:\n",
    "            lines = fp.readlines()\n",
    "            for label in rep_labels:\n",
    "                lines = [line.replace(label, rep_with) for line in lines]\n",
    "                lines = [line.replace(f\"{f}.jpg\", f\"{f}.png\") for line in lines]\n",
    "        with open(xml_path, \"w\") as fpw:\n",
    "            fpw.write(\"\".join(lines))\n",
    "            \n",
    "        jpg_path = os.path.join(path, \"%s.png\" % f)\n",
    "        xml_to = os.path.join(\"training_all/%s.xml\" % (f))\n",
    "        jpg_to = os.path.join(\"training_all/%s.png\" % f)\n",
    "        jpg_del =os.path.join(\"training_all/%s.jpg\" % f)\n",
    "        copyfile(xml_path, xml_to)\n",
    "        copyfile(jpg_path, jpg_to)\n",
    "        try:\n",
    "            os.remove(jpg_del)\n",
    "        except:\n",
    "            continue"
   ]
  },
  {
   "cell_type": "code",
   "execution_count": 6,
   "metadata": {},
   "outputs": [
    {
     "data": {
      "text/plain": [
       "['.ipynb_checkpoints',\n",
       " 'train_0',\n",
       " 'train_0.avi',\n",
       " 'train_1',\n",
       " 'train_1.avi',\n",
       " 'train_2',\n",
       " 'train_2.avi',\n",
       " 'train_3',\n",
       " 'train_3.avi']"
      ]
     },
     "execution_count": 6,
     "metadata": {},
     "output_type": "execute_result"
    }
   ],
   "source": [
    "# Copy to the other folder\n"
   ]
  },
  {
   "cell_type": "code",
   "execution_count": null,
   "metadata": {},
   "outputs": [],
   "source": []
  }
 ],
 "metadata": {
  "kernelspec": {
   "display_name": "Python 3",
   "language": "python",
   "name": "python3"
  },
  "language_info": {
   "codemirror_mode": {
    "name": "ipython",
    "version": 3
   },
   "file_extension": ".py",
   "mimetype": "text/x-python",
   "name": "python",
   "nbconvert_exporter": "python",
   "pygments_lexer": "ipython3",
   "version": "3.7.4"
  }
 },
 "nbformat": 4,
 "nbformat_minor": 2
}
