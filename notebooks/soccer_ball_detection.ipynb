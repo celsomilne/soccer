{
 "cells": [
  {
   "cell_type": "code",
   "execution_count": 1,
   "metadata": {},
   "outputs": [],
   "source": [
    "import os\n",
    "import shutil\n",
    "import re\n",
    "import pafy\n",
    "import cv2\n",
    "import numpy as np\n",
    "import warnings\n",
    "\n",
    "from tqdm.auto import tqdm\n",
    "import matplotlib.pyplot as plt\n",
    "%matplotlib inline"
   ]
  },
  {
   "cell_type": "code",
   "execution_count": 2,
   "metadata": {},
   "outputs": [],
   "source": [
    "urls = [\n",
    "    \"https://www.youtube.com/watch?v=1rWw2LkYzAQ&t=1s\",\n",
    "    \"https://www.youtube.com/watch?v=nKW8LPLl99E\",\n",
    "    \"https://www.youtube.com/watch?v=kn5uevla61U\",\n",
    "    \"https://www.youtube.com/watch?v=OmKbGOARXao\"\n",
    "]\n",
    "test_url = \"https://www.youtube.com/watch?v=OmKbGOARXao\""
   ]
  },
  {
   "cell_type": "code",
   "execution_count": 11,
   "metadata": {
    "scrolled": true
   },
   "outputs": [],
   "source": [
    "def getURL(url, path='', overwrite=False):\n",
    "    \n",
    "    # Get the video stream with 1280x720 resolution\n",
    "    video = pafy.new(url)\n",
    "    desired_resolution = np.array((1280, 720))\n",
    "    streams = video.streams\n",
    "    resolutions = np.array([s.dimensions for s in streams])\n",
    "    idx = np.where(resolutions == desired_resolution)\n",
    "    stream_idx = idx[0][0]\n",
    "    stream = streams[stream_idx]\n",
    "    print(\"URL:{}\\n\\tResolution:{}\".format(url, stream.dimensions))\n",
    "    \n",
    "    # Set the filename, and remove invalid characters\n",
    "    valid_chrs = \"qwertyuiopasdfghjklzxcvbnmQWERTYUIOPASDFGHJKLZXCVBNM1234567890\"\n",
    "    title = \"\".join([c if c in valid_chrs else \"_\" for c in stream.title])\n",
    "    filename = os.path.join(path, \"{}.{}\".format(title, stream.extension))\n",
    "    ret = {\"video\":video, \"stream\": stream, \"filename\": filename}\n",
    "    print(\"Writing to %s\" % filename)\n",
    "    if os.path.isfile(filename):\n",
    "        if overwrite:\n",
    "            try:\n",
    "                os.remove(filename)\n",
    "            except PermissionError as e:\n",
    "                warnings.warn(\"Cannot overwrite video. Permission Denied\")\n",
    "                return ret \n",
    "        else:\n",
    "            warnings.warn(\"File already exists\")\n",
    "            return ret\n",
    "    stream.download(filepath=filename, quiet=False)\n",
    "    return ret\n",
    "\n",
    "def loadFile(filename):\n",
    "    vidcap = cv2.VideoCapture(filename)\n",
    "    return vidcap\n",
    "\n",
    "def processFrame(frame, threshold=0.4):\n",
    "    \n",
    "    # Find how much green there is in the photo\n",
    "    hsv = cv2.cvtColor(frame, cv2.COLOR_BGR2HSV)\n",
    "\n",
    "    # Threshold the HSV image to get only blue colors\n",
    "    lower_green = np.array([40,50,50])\n",
    "    upper_green = np.array([80,255,255])\n",
    "    mask = cv2.inRange(hsv, lower_green, upper_green)\n",
    "    \n",
    "    mask = np.where(mask > 0, 1, 0)\n",
    "    \n",
    "    green_ratio = mask.sum() / (mask.size)\n",
    "    if green_ratio > threshold:\n",
    "        return True, frame\n",
    "    else:\n",
    "        return False, None\n",
    "    \n",
    "def processURL(url, outName):\n",
    "    \n",
    "    # Get the stream\n",
    "    streamObj = getURL(url, overwrite=False)\n",
    "    cap = loadFile(streamObj['filename'])\n",
    "    \n",
    "    # Video properties\n",
    "    frameCount = int(cap.get(cv2.CAP_PROP_FRAME_COUNT))\n",
    "    frameWidth = int(cap.get(cv2.CAP_PROP_FRAME_WIDTH))\n",
    "    frameHeight = int(cap.get(cv2.CAP_PROP_FRAME_HEIGHT))\n",
    "    frameRate = int(frameCount / streamObj['video'].length)\n",
    "\n",
    "    # Get the file extension\n",
    "    filename, file_ext = os.path.splitext(outName)\n",
    "    if not file_ext:\n",
    "        file_ext = \"avi\"\n",
    "    \n",
    "    # Write to file\n",
    "    codec = 'MJPG'\n",
    "    writer = cv2.VideoWriter(f\"{filename}.{file_ext}\", cv2.VideoWriter_fourcc(*codec), \n",
    "                                 frameRate, (frameWidth, frameHeight), True)\n",
    "    if not os.path.isdir(filename):\n",
    "        os.mkdir(filename)\n",
    "    else:\n",
    "        cap.release()\n",
    "        writer.release()\n",
    "        return\n",
    "        \n",
    "    # Get one frame every 10 seconds\n",
    "    everyFrame = frameRate * 10\n",
    "    for i in tqdm(np.arange(1, frameCount, everyFrame), desc=streamObj['stream'].title.split(\" \")[0]):\n",
    "        cap.set(cv2.CAP_PROP_POS_FRAMES, i)\n",
    "        ret, frame = cap.read()\n",
    "        if not ret:\n",
    "            break\n",
    "        res, frame = processFrame(frame, 0.6)\n",
    "        if res:\n",
    "            writer.write(frame)\n",
    "            plt.imsave(f\"{filename}/{i}.png\", cv2.cvtColor(frame, cv2.COLOR_BGR2RGB))\n",
    "\n",
    "\n",
    "    cap.release()\n",
    "    writer.release()\n",
    "    "
   ]
  },
  {
   "cell_type": "code",
   "execution_count": 12,
   "metadata": {
    "scrolled": true
   },
   "outputs": [
    {
     "name": "stdout",
     "output_type": "stream",
     "text": [
      "Processing 0: https://www.youtube.com/watch?v=1rWw2LkYzAQ&t=1s\n",
      "URL:https://www.youtube.com/watch?v=1rWw2LkYzAQ&t=1s\n",
      "\tResolution:(1280, 720)\n",
      "Writing to Real_Madrid_CF_vs_FC_Barcelona__2_3__Full_Match_23_04_17_HD.mp4\n"
     ]
    },
    {
     "name": "stderr",
     "output_type": "stream",
     "text": [
      "c:\\users\\celso\\appdata\\local\\programs\\python\\python37\\lib\\site-packages\\ipykernel_launcher.py:27: UserWarning: File already exists\n"
     ]
    },
    {
     "name": "stdout",
     "output_type": "stream",
     "text": [
      "Processing 1: https://www.youtube.com/watch?v=nKW8LPLl99E\n",
      "URL:https://www.youtube.com/watch?v=nKW8LPLl99E\n",
      "\tResolution:(1280, 720)\n",
      "Writing to Chelsea_vs_Manchester_City___Full_Match_HD____Final_Cup_18_19.mp4\n",
      "  1,428,694,962 Bytes [100.00%] received. Rate: [2578 KB/s].  ETA: [0 secs]     \r"
     ]
    },
    {
     "data": {
      "application/vnd.jupyter.widget-view+json": {
       "model_id": "f62d8ecb8801491daf613fec8f79b306",
       "version_major": 2,
       "version_minor": 0
      },
      "text/plain": [
       "HBox(children=(IntProgress(value=0, description='Chelsea', max=961, style=ProgressStyle(description_width='ini…"
      ]
     },
     "metadata": {},
     "output_type": "display_data"
    },
    {
     "name": "stdout",
     "output_type": "stream",
     "text": [
      "\n",
      "Processing 2: https://www.youtube.com/watch?v=kn5uevla61U\n",
      "URL:https://www.youtube.com/watch?v=kn5uevla61U\n",
      "\tResolution:(1280, 720)\n",
      "Writing to Brazil_vs_Germany___FULL_match___Men_s_Football_Final_Rio_2016___Throwback_Thursday.mp4\n",
      "  1,393,914,930 Bytes [100.00%] received. Rate: [2496 KB/s].  ETA: [0 secs]     \r"
     ]
    },
    {
     "data": {
      "application/vnd.jupyter.widget-view+json": {
       "model_id": "2203f4960667497d90bb1f30e4c74c52",
       "version_major": 2,
       "version_minor": 0
      },
      "text/plain": [
       "HBox(children=(IntProgress(value=0, description='Brazil', max=1053, style=ProgressStyle(description_width='ini…"
      ]
     },
     "metadata": {},
     "output_type": "display_data"
    },
    {
     "name": "stdout",
     "output_type": "stream",
     "text": [
      "\n",
      "Processing 3: https://www.youtube.com/watch?v=OmKbGOARXao\n",
      "URL:https://www.youtube.com/watch?v=OmKbGOARXao\n",
      "\tResolution:(1280, 720)\n",
      "Writing to First_Time_in_Full_Length__Lewandowski_s_9_Minute_Miracle.mp4\n",
      "  94,087,366 Bytes [100.00%] received. Rate: [2935 KB/s].  ETA: [0 secs]    \r"
     ]
    },
    {
     "data": {
      "application/vnd.jupyter.widget-view+json": {
       "model_id": "62a44d2de06b4c40bd9fae50158d695a",
       "version_major": 2,
       "version_minor": 0
      },
      "text/plain": [
       "HBox(children=(IntProgress(value=0, description='First', max=67, style=ProgressStyle(description_width='initia…"
      ]
     },
     "metadata": {},
     "output_type": "display_data"
    },
    {
     "name": "stdout",
     "output_type": "stream",
     "text": [
      "\n"
     ]
    }
   ],
   "source": [
    "for i, url in enumerate(urls):\n",
    "    outName = f\"training_2/train_{i}\"\n",
    "    print(\"Processing {}: {}\".format(i, url))\n",
    "    streamObj = processURL(url, outName)"
   ]
  },
  {
   "cell_type": "code",
   "execution_count": null,
   "metadata": {},
   "outputs": [],
   "source": [
    "streamObj['video'].streams[-2].dimensions"
   ]
  },
  {
   "cell_type": "code",
   "execution_count": 2,
   "metadata": {},
   "outputs": [
    {
     "data": {
      "text/plain": [
       "[(0, 1), (1, 2), (2, 3)]"
      ]
     },
     "execution_count": 2,
     "metadata": {},
     "output_type": "execute_result"
    }
   ],
   "source": [
    "list(enumerate([1, 2, 3]))"
   ]
  },
  {
   "cell_type": "code",
   "execution_count": null,
   "metadata": {},
   "outputs": [],
   "source": []
  }
 ],
 "metadata": {
  "kernelspec": {
   "display_name": "Python 3",
   "language": "python",
   "name": "python3"
  },
  "language_info": {
   "codemirror_mode": {
    "name": "ipython",
    "version": 3
   },
   "file_extension": ".py",
   "mimetype": "text/x-python",
   "name": "python",
   "nbconvert_exporter": "python",
   "pygments_lexer": "ipython3",
   "version": "3.7.4"
  }
 },
 "nbformat": 4,
 "nbformat_minor": 2
}
