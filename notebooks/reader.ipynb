{
 "cells": [
  {
   "cell_type": "code",
   "execution_count": 1,
   "metadata": {},
   "outputs": [],
   "source": [
    "import sys\n",
    "import os\n",
    "import matplotlib.pyplot as plt\n",
    "import numpy as np\n",
    "%matplotlib inline\n",
    "\n",
    "src_file = \"..\"\n",
    "if src_file not in sys.path:\n",
    "    sys.path.insert(0, src_file)\n",
    "    \n",
    "from src.visualiser import *"
   ]
  },
  {
   "cell_type": "code",
   "execution_count": 4,
   "metadata": {},
   "outputs": [
    {
     "data": {
      "text/plain": [
       "'hello'"
      ]
     },
     "execution_count": 4,
     "metadata": {},
     "output_type": "execute_result"
    }
   ],
   "source": [
    "training_dir = \"training\"\n",
    "test_video = os.path.join(training_dir, \"train_1.avi\")\n",
    "vis = Visualiser(test_video)"
   ]
  },
  {
   "cell_type": "code",
   "execution_count": 3,
   "metadata": {},
   "outputs": [],
   "source": [
    "# hasFrame = True\n",
    "# while hasFrame:\n",
    "#     hasFrame, frame = vis.next_frame()\n",
    "#     if hasFrame:\n",
    "#         plt.imshow(frame)\n",
    "#         plt.show()"
   ]
  },
  {
   "cell_type": "code",
   "execution_count": 6,
   "metadata": {},
   "outputs": [
    {
     "data": {
      "text/plain": [
       "<VideoCapture 0000023FDAF14950>"
      ]
     },
     "execution_count": 6,
     "metadata": {},
     "output_type": "execute_result"
    }
   ],
   "source": [
    "vis.capture"
   ]
  },
  {
   "cell_type": "code",
   "execution_count": 18,
   "metadata": {},
   "outputs": [
    {
     "name": "stdout",
     "output_type": "stream",
     "text": [
      "training\\train_0\\14211.jpg\n",
      "training\\train_0\\14501.jpg\n",
      "training\\train_0\\14791.jpg\n",
      "training\\train_0\\15081.jpg\n",
      "training\\train_0\\15371.jpg\n",
      "training\\train_0\\16531.jpg\n",
      "training\\train_0\\17401.jpg\n",
      "training\\train_0\\17691.jpg\n",
      "training\\train_0\\17981.jpg\n",
      "training\\train_0\\18271.jpg\n",
      "training\\train_0\\20881.jpg\n",
      "training\\train_0\\22621.jpg\n",
      "training\\train_0\\2611.jpg\n",
      "training\\train_0\\4061.jpg\n",
      "training\\train_0\\4641.jpg\n",
      "training\\train_0\\4931.jpg\n",
      "training\\train_0\\5511.jpg\n",
      "training\\train_0\\5801.jpg\n",
      "training\\train_0\\6091.jpg\n",
      "training\\train_0\\6381.jpg\n",
      "training\\train_0\\6961.jpg\n",
      "training\\train_0\\7831.jpg\n",
      "training\\train_0\\8411.jpg\n",
      "training\\train_0\\8701.jpg\n",
      "training\\train_0\\8991.jpg\n",
      "training\\train_0\\9281.jpg\n",
      "training\\train_0\\9571.jpg\n",
      "training\\train_1\\2001.jpg\n",
      "training\\train_1\\2751.jpg\n",
      "training\\train_1\\3001.jpg\n",
      "training\\train_1\\3251.jpg\n",
      "training\\train_1\\3501.jpg\n",
      "training\\train_1\\3751.jpg\n",
      "training\\train_1\\4001.jpg\n",
      "training\\train_1\\4251.jpg\n",
      "training\\train_1\\5751.jpg\n",
      "training\\train_3\\10801.jpg\n",
      "training\\train_3\\241.jpg\n",
      "training\\train_3\\3601.jpg\n",
      "training\\train_3\\3841.jpg\n",
      "training\\train_3\\4081.jpg\n",
      "training\\train_3\\5281.jpg\n",
      "training\\train_3\\8641.jpg\n",
      "training\\train_3\\8881.jpg\n"
     ]
    }
   ],
   "source": [
    "from shutil import copyfile\n",
    "for d in os.listdir(training_dir):\n",
    "    path = os.path.join(training_dir, d)\n",
    "    if os.path.isdir(path) and d[0] != \".\":\n",
    "        for f in os.listdir(path):\n",
    "            if f[0] == \".\":\n",
    "                continue\n",
    "            core, ext = os.path.splitext(f)\n",
    "            if ext == \".jpg\":\n",
    "                continue\n",
    "            fpath = os.path.join(path, core)\n",
    "            jpg = f\"{fpath}.jpg\"\n",
    "            xml = f\"{fpath}.xml\"\n",
    "            copyfil()\n",
    "            "
   ]
  },
  {
   "cell_type": "code",
   "execution_count": null,
   "metadata": {},
   "outputs": [],
   "source": []
  }
 ],
 "metadata": {
  "kernelspec": {
   "display_name": "Python 3",
   "language": "python",
   "name": "python3"
  },
  "language_info": {
   "codemirror_mode": {
    "name": "ipython",
    "version": 3
   },
   "file_extension": ".py",
   "mimetype": "text/x-python",
   "name": "python",
   "nbconvert_exporter": "python",
   "pygments_lexer": "ipython3",
   "version": "3.7.4"
  }
 },
 "nbformat": 4,
 "nbformat_minor": 2
}
