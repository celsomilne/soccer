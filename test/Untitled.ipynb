{
 "cells": [
  {
   "cell_type": "code",
   "execution_count": 29,
   "metadata": {},
   "outputs": [],
   "source": [
    "import cv2\n",
    "from bounding_box import bounding_box as bb\n",
    "import xmltodict\n",
    "import matplotlib.pyplot as plt\n",
    "%matplotlib inline\n",
    "img = \"280.jpg\"\n",
    "xml = \"280.xml\"\n",
    "\n",
    "img = cv2.imread(img)\n",
    "img = cv2.cvtColor(img, cv2.COLOR_BGR2RGB)"
   ]
  },
  {
   "cell_type": "code",
   "execution_count": 30,
   "metadata": {},
   "outputs": [],
   "source": [
    "with open(xml, 'r') as f:\n",
    "    lines = \"\".join(f.readlines())\n",
    "d = xmltodict.parse(lines)['annotation']"
   ]
  },
  {
   "cell_type": "code",
   "execution_count": 31,
   "metadata": {},
   "outputs": [],
   "source": [
    "for o in d['object']:\n",
    "    bnbox = o['bndbox']\n",
    "    xmin = bnbox['xmin']\n",
    "    ymin = bnbox['ymin']\n",
    "    xmax = bnbox['xmax']\n",
    "    ymax = bnbox['ymax']\n",
    "    bb.add(img, xmin, ymin, xmax, ymax, \"player\")"
   ]
  },
  {
   "cell_type": "code",
   "execution_count": 36,
   "metadata": {},
   "outputs": [
    {
     "data": {
      "text/plain": [
       "True"
      ]
     },
     "execution_count": 36,
     "metadata": {},
     "output_type": "execute_result"
    }
   ],
   "source": [
    "img = cv2.cvtColor(img, cv2.COLOR_RGB2BGR)\n",
    "cv2.imwrite(\"280_markedup.png\", img)"
   ]
  },
  {
   "cell_type": "code",
   "execution_count": null,
   "metadata": {},
   "outputs": [],
   "source": []
  }
 ],
 "metadata": {
  "kernelspec": {
   "display_name": "Python 3",
   "language": "python",
   "name": "python3"
  },
  "language_info": {
   "codemirror_mode": {
    "name": "ipython",
    "version": 3
   },
   "file_extension": ".py",
   "mimetype": "text/x-python",
   "name": "python",
   "nbconvert_exporter": "python",
   "pygments_lexer": "ipython3",
   "version": "3.7.4"
  }
 },
 "nbformat": 4,
 "nbformat_minor": 2
}
